{
 "cells": [
  {
   "cell_type": "code",
   "execution_count": null,
   "id": "c27a6c75",
   "metadata": {},
   "outputs": [],
   "source": [
    "import requests\n",
    "import time\n",
    "import os\n",
    "\n",
    "def fetch_census_data(api_key, year, state_code, county_codes):\n",
    "    base_url = f\"https://api.census.gov/data/{year}/acs/acs5\"\n",
    "    county_query = ','.join([f'{state_code}{county_code.zfill(3)}' for county_code in county_codes])\n",
    "    params = {\n",
    "        'get': 'NAME,B25077_001E',\n",
    "        'for': 'county:*',\n",
    "        'in': f'state:{state_code}',\n",
    "        'key': api_key\n",
    "    }\n",
    "    response = requests.get(base_url, params=params)\n",
    "    if response.status_code == 200:\n",
    "        return response.json()\n",
    "    else:\n",
    "        return None\n",
    "\n",
    "# Group counties by state\n",
    "counties_by_state = fips_df.groupby('state_fips')['county_fips'].apply(list).to_dict()\n",
    "\n",
    "# API Key and Year Range\n",
    "api_key = 'fake_key'  \n",
    "years = range(2010, 2024)\n",
    "\n",
    "all_data = []\n",
    "filename = 'census_data/census_data.csv'\n",
    "\n",
    "for year in years:\n",
    "    for state_code, county_codes in counties_by_state.items():\n",
    "        # Fetch in chunks if there are too many counties in a state\n",
    "        chunk_size = 50  # Adjust based on experimentation\n",
    "        for i in range(0, len(county_codes), chunk_size):\n",
    "            county_chunk = county_codes[i:i + chunk_size]\n",
    "            data = fetch_census_data(api_key, year, state_code, county_chunk)\n",
    "            if data:\n",
    "                year_data = [record + [year] for record in data[1:]]\n",
    "                all_data.extend(year_data)\n",
    "                if len(all_data) >= 200:\n",
    "                    print(data[1])\n",
    "                    file_exists = os.path.isfile(filename)\n",
    "                    temp_df = pd.DataFrame(all_data, columns=['Name', 'MedianHouseValue', 'State', 'County', 'year'])\n",
    "                    temp_df.to_csv(filename, mode='a', index=False, header=not file_exists)\n",
    "                    all_data = []\n",
    "            time.sleep(0.5)\n",
    "\n",
    "# Save any remaining data\n",
    "if all_data:\n",
    "    file_exists = os.path.isfile(filename)\n",
    "    temp_df = pd.DataFrame(all_data, columns=['Name', 'MedianHouseValue', 'State', 'County', 'year'])\n",
    "    temp_df.to_csv(filename, mode='a', index=False, header=not file_exists)"
   ]
  }
 ],
 "metadata": {
  "kernelspec": {
   "display_name": "Python 3 (ipykernel)",
   "language": "python",
   "name": "python3"
  },
  "language_info": {
   "codemirror_mode": {
    "name": "ipython",
    "version": 3
   },
   "file_extension": ".py",
   "mimetype": "text/x-python",
   "name": "python",
   "nbconvert_exporter": "python",
   "pygments_lexer": "ipython3",
   "version": "3.10.6"
  }
 },
 "nbformat": 4,
 "nbformat_minor": 5
}
