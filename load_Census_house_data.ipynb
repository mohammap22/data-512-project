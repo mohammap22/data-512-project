{
 "cells": [
  {
   "cell_type": "markdown",
   "id": "e138ee1f",
   "metadata": {},
   "source": [
    "# Collect Census Data from US Census API\n",
    "This file loads yearly median house price data from the US Census using the API. To get an API key use [this](https://api.census.gov/data/key_signup.html) link. This notebook also uses an external file called `state_and_county_fips_master.csv`. This csv file is sourced from this public github [repository](https://github.com/kjhealy/fips-codes). "
   ]
  },
  {
   "cell_type": "code",
   "execution_count": 3,
   "id": "c27a6c75",
   "metadata": {},
   "outputs": [],
   "source": [
    "import requests\n",
    "import time\n",
    "import os\n",
    "import pandas as pd\n",
    "\n",
    "def fetch_census_data(api_key, year, state_code, county_codes):\n",
    "    base_url = f\"https://api.census.gov/data/{year}/acs/acs5\"\n",
    "    county_query = ','.join([f'{state_code}{county_code.zfill(3)}' for county_code in county_codes])\n",
    "    params = {\n",
    "        'get': 'NAME,B25077_001E',\n",
    "        'for': 'county:*',\n",
    "        'in': f'state:{state_code}',\n",
    "        'key': api_key\n",
    "    }\n",
    "    response = requests.get(base_url, params=params)\n",
    "    if response.status_code == 200:\n",
    "        return response.json()\n",
    "    else:\n",
    "        return None\n"
   ]
  },
  {
   "cell_type": "code",
   "execution_count": 8,
   "id": "7d4cc4ae",
   "metadata": {},
   "outputs": [],
   "source": [
    "# Group counties by state\n",
    "fips_df = pd.read_csv('census_data/state_and_county_fips_master.csv')\n",
    "\n",
    "# split FIPS codes\n",
    "def split_fips(row):\n",
    "    fips = str(row['fips']).zfill(5) \n",
    "    return pd.Series({\n",
    "        'state_fips': fips[:2],  \n",
    "        'county_fips': fips[2:], \n",
    "    })\n",
    "\n",
    "# function to each row\n",
    "fips_df[['state_fips', 'county_fips']] = fips_df.apply(split_fips, axis=1)\n"
   ]
  },
  {
   "cell_type": "code",
   "execution_count": null,
   "id": "9b4ef4c4",
   "metadata": {},
   "outputs": [],
   "source": [
    "counties_by_state = fips_df.groupby('state_fips')['county_fips'].apply(list).to_dict()\n",
    "\n",
    "api_key = 'fake_key'  \n",
    "years = range(2010, 2024)\n",
    "\n",
    "all_data = []\n",
    "filename = 'census_data/fake.csv' #save census data into this csv\n",
    "\n",
    "for year in years:\n",
    "    for state_code, county_codes in counties_by_state.items():\n",
    "        # Fetch in chunks if there are too many counties in a state\n",
    "        chunk_size = 50  # Adjust based on experimentation\n",
    "        for i in range(0, len(county_codes), chunk_size):\n",
    "            county_chunk = county_codes[i:i + chunk_size]\n",
    "            data = fetch_census_data(api_key, year, state_code, county_chunk)\n",
    "            if data:\n",
    "                year_data = [record + [year] for record in data[1:]]\n",
    "                all_data.extend(year_data)\n",
    "                if len(all_data) >= 200:\n",
    "                    print(data[1])\n",
    "                    file_exists = os.path.isfile(filename)\n",
    "                    temp_df = pd.DataFrame(all_data, columns=['Name', 'MedianHouseValue', 'State', 'County', 'year'])\n",
    "                    temp_df.to_csv(filename, mode='a', index=False, header=not file_exists)\n",
    "                    all_data = []\n",
    "            time.sleep(0.5)\n",
    "\n",
    "if all_data:\n",
    "    file_exists = os.path.isfile(filename)\n",
    "    temp_df = pd.DataFrame(all_data, columns=['Name', 'MedianHouseValue', 'State', 'County', 'year'])\n",
    "    temp_df.to_csv(filename, mode='a', index=False, header=not file_exists)"
   ]
  }
 ],
 "metadata": {
  "kernelspec": {
   "display_name": "Python 3 (ipykernel)",
   "language": "python",
   "name": "python3"
  },
  "language_info": {
   "codemirror_mode": {
    "name": "ipython",
    "version": 3
   },
   "file_extension": ".py",
   "mimetype": "text/x-python",
   "name": "python",
   "nbconvert_exporter": "python",
   "pygments_lexer": "ipython3",
   "version": "3.10.6"
  }
 },
 "nbformat": 4,
 "nbformat_minor": 5
}
